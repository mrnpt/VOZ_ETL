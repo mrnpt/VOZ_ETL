{
 "cells": [
  {
   "cell_type": "code",
   "execution_count": 9,
   "outputs": [],
   "source": [
    "from datetime import datetime\n",
    "import pandas as pd\n",
    "from selenium.webdriver.support.wait import WebDriverWait\n",
    "from sqlalchemy import create_engine\n",
    "from selenium.webdriver.support import expected_conditions as EC\n",
    "from selenium.webdriver.common.by import By\n",
    "\n",
    "from src.scrape.scrape_threads import scrape_threads_range, scrape_top_threads, analyze_thread\n",
    "from src.scrape.get_source_page import get_source_selenium\n",
    "from src.load.load_data_to_postgresdb import load_user_staging_to_production, load_user_to_staging, load_thread_staging_to_production, load_thread_to_staging\n",
    "from src.utilities.config import config\n",
    "from src.utilities.database_utils import connect\n"
   ],
   "metadata": {
    "collapsed": false,
    "pycharm": {
     "name": "#%%\n"
    }
   }
  },
  {
   "cell_type": "markdown",
   "source": [
    "Define params to scrape top threads from f"
   ],
   "metadata": {
    "collapsed": false,
    "pycharm": {
     "name": "#%% md\n"
    }
   }
  },
  {
   "cell_type": "code",
   "execution_count": null,
   "outputs": [],
   "source": [
    "top = 20\n",
    "f = 33\n",
    "last = 7\n",
    "ext=f'?last_days={last}&order=reply_count&direction=desc'"
   ],
   "metadata": {
    "collapsed": false,
    "pycharm": {
     "name": "#%%\n"
    }
   }
  },
  {
   "cell_type": "code",
   "execution_count": 11,
   "outputs": [
    {
     "name": "stderr",
     "output_type": "stream",
     "text": [
      "\n",
      "KeyboardInterrupt\n",
      "\n"
     ]
    }
   ],
   "source": [
    "top_n = scrape_top_threads(last_days=last,top=top,f=f, direction=\"desc\")"
   ],
   "metadata": {
    "collapsed": false,
    "pycharm": {
     "name": "#%%\n"
    }
   }
  },
  {
   "cell_type": "code",
   "execution_count": null,
   "outputs": [],
   "source": [
    "# top_n = extract_threads_range(from_page=26, to_page=24, f=3, ext=ext)"
   ],
   "metadata": {
    "collapsed": false,
    "pycharm": {
     "name": "#%%\n"
    }
   }
  },
  {
   "cell_type": "code",
   "execution_count": null,
   "outputs": [],
   "source": [
    "top_n"
   ],
   "metadata": {
    "collapsed": false,
    "pycharm": {
     "name": "#%%\n"
    }
   }
  },
  {
   "cell_type": "markdown",
   "source": [
    "Remove duplicated threads"
   ],
   "metadata": {
    "collapsed": false,
    "pycharm": {
     "name": "#%% md\n"
    }
   }
  },
  {
   "cell_type": "code",
   "execution_count": null,
   "outputs": [],
   "source": [
    "r = set()\n",
    "for i in top_n:\n",
    "    if i['thread_id'] in r:\n",
    "        top_n.remove(i)\n",
    "    else:\n",
    "        r.add(i['thread_id'])"
   ],
   "metadata": {
    "collapsed": false,
    "pycharm": {
     "name": "#%%\n"
    }
   }
  },
  {
   "cell_type": "markdown",
   "source": [
    "This code block used only in case **scrapeing comments**. It will remove duplicated threads before scraping comments to\n",
    "ensure we don't scrape comments of the same threads since this task takes long time"
   ],
   "metadata": {
    "collapsed": false,
    "pycharm": {
     "name": "#%% md\n"
    }
   }
  },
  {
   "cell_type": "code",
   "execution_count": null,
   "outputs": [],
   "source": [
    "engine = connect(\"postgresql_aws\")\n",
    "seen_id = engine.execute(\"SELECT thread_id from threads\").fetchall()\n",
    "seen_id_df = pd.DataFrame(seen_id)\n",
    "not_seen = [i for i in top_n if i['thread_id'] not in seen_id_df.values]"
   ],
   "metadata": {
    "collapsed": false,
    "pycharm": {
     "name": "#%%\n"
    }
   }
  },
  {
   "cell_type": "code",
   "execution_count": null,
   "outputs": [],
   "source": [
    "not_seen"
   ],
   "metadata": {
    "collapsed": false,
    "pycharm": {
     "name": "#%%\n"
    }
   }
  },
  {
   "cell_type": "markdown",
   "source": [
    "No more covid threads!"
   ],
   "metadata": {
    "collapsed": false,
    "pycharm": {
     "name": "#%% md\n"
    }
   }
  },
  {
   "cell_type": "code",
   "execution_count": null,
   "outputs": [],
   "source": [
    "ignored_covid = [i for i in top_n if (\"covid\" not in i['title'].lower()) and (\"corona\" not in i['title'].lower()) and (\"covid-19\" not in (i['title'].lower()))]"
   ],
   "metadata": {
    "collapsed": false,
    "pycharm": {
     "name": "#%%\n"
    }
   }
  },
  {
   "cell_type": "markdown",
   "source": [
    "Declare variables to store data"
   ],
   "metadata": {
    "collapsed": false,
    "pycharm": {
     "name": "#%% md\n"
    }
   }
  },
  {
   "cell_type": "code",
   "execution_count": null,
   "outputs": [],
   "source": [
    "host = 'https://voz.vn'\n",
    "data_by_thread = {}\n",
    "user = []"
   ],
   "metadata": {
    "collapsed": false,
    "pycharm": {
     "name": "#%%\n"
    }
   }
  },
  {
   "cell_type": "markdown",
   "source": [
    "Start scraping comments"
   ],
   "metadata": {
    "collapsed": false,
    "pycharm": {
     "name": "#%% md\n"
    }
   }
  },
  {
   "cell_type": "code",
   "execution_count": null,
   "outputs": [],
   "source": [
    "for thread in not_seen:\n",
    "    link = f'/t/{thread[\"thread_id\"]}/'\n",
    "    title = thread['title']\n",
    "    page = 1\n",
    "    data = []\n",
    "    while True:\n",
    "        url = f'{host}{link}page-{page}'\n",
    "        driver = get_source_selenium(url)\n",
    "        try:\n",
    "            thread_stat, user_stat = analyze_thread(driver)\n",
    "            data.extend(thread_stat)\n",
    "            user.extend(user_stat)\n",
    "        except:\n",
    "            pass\n",
    "        try:\n",
    "            element = WebDriverWait(driver, 10).until(\n",
    "                EC.presence_of_element_located((By.LINK_TEXT, \"Next\"))\n",
    "            )\n",
    "            page += 1\n",
    "            # driver.quit()\n",
    "        except: # Reach last page\n",
    "            print('Next not found')\n",
    "            break\n",
    "        finally:\n",
    "            driver.quit()\n",
    "    data_by_thread[title] = data"
   ],
   "metadata": {
    "collapsed": false,
    "pycharm": {
     "name": "#%%\n"
    }
   }
  },
  {
   "cell_type": "markdown",
   "source": [
    "Remove `NULL` value in case failed to scrape users somehow"
   ],
   "metadata": {
    "collapsed": false,
    "pycharm": {
     "name": "#%% md\n"
    }
   }
  },
  {
   "cell_type": "code",
   "execution_count": null,
   "outputs": [],
   "source": [
    "res = [i for i in user if i is not None]"
   ],
   "metadata": {
    "collapsed": false,
    "pycharm": {
     "name": "#%%\n"
    }
   }
  },
  {
   "cell_type": "code",
   "execution_count": null,
   "outputs": [],
   "source": [
    "df = pd.DataFrame(res)\n",
    "df.drop_duplicates(subset=\"user_id\", keep=\"last\", inplace=True, ignore_index=True)\n",
    "df['updated_at'] = datetime.now().strftime(\"%b %d, %Y %I:%M %p\")\n",
    "df['location'].replace(\"\\\\./\", \"\", inplace=True) # Remove Escape keyword in location"
   ],
   "metadata": {
    "collapsed": false,
    "pycharm": {
     "name": "#%%\n"
    }
   }
  },
  {
   "cell_type": "markdown",
   "source": [
    "Start loading users to databse"
   ],
   "metadata": {
    "collapsed": false,
    "pycharm": {
     "name": "#%% md\n"
    }
   }
  },
  {
   "cell_type": "code",
   "execution_count": null,
   "outputs": [],
   "source": [
    "engine = connect(\"postgresql_aws\")"
   ],
   "metadata": {
    "collapsed": false,
    "pycharm": {
     "name": "#%%\n"
    }
   }
  },
  {
   "cell_type": "code",
   "execution_count": null,
   "outputs": [],
   "source": [
    "load_user_to_staging(engine, \"users_staging\", df)"
   ],
   "metadata": {
    "collapsed": false,
    "pycharm": {
     "name": "#%%\n"
    }
   }
  },
  {
   "cell_type": "code",
   "execution_count": null,
   "outputs": [],
   "source": [
    "load_user_staging_to_production(engine, staging_table=\"users_staging\", prod_table=\"users\")"
   ],
   "metadata": {
    "collapsed": false,
    "pycharm": {
     "name": "#%%\n"
    }
   }
  },
  {
   "cell_type": "markdown",
   "source": [
    "This code block used only in case we scrape comments"
   ],
   "metadata": {
    "collapsed": false,
    "pycharm": {
     "name": "#%% md\n"
    }
   }
  },
  {
   "cell_type": "code",
   "execution_count": null,
   "outputs": [],
   "source": [
    "{i.update({'participants':data_by_thread[i['title']], 'updated_at':datetime.now().strftime(\"%b %d, %Y %I:%M %p\"), 'f': f}) for i in not_seen[:10]}"
   ],
   "metadata": {
    "collapsed": false,
    "pycharm": {
     "name": "#%%\n"
    }
   }
  },
  {
   "cell_type": "markdown",
   "source": [
    "This code block used only in case we **`don't`** scrape comments"
   ],
   "metadata": {
    "collapsed": false,
    "pycharm": {
     "name": "#%% md\n"
    }
   }
  },
  {
   "cell_type": "code",
   "execution_count": null,
   "outputs": [],
   "source": [
    "{i.update({'updated_at':datetime.now().strftime(\"%b %d, %Y %I:%M %p\"), 'f': f}) for i in top_n[10:]}"
   ],
   "metadata": {
    "collapsed": false,
    "pycharm": {
     "name": "#%%\n"
    }
   }
  },
  {
   "cell_type": "markdown",
   "source": [
    "Remember to modify the threads name properly"
   ],
   "metadata": {
    "collapsed": false,
    "pycharm": {
     "name": "#%% md\n"
    }
   }
  },
  {
   "cell_type": "code",
   "execution_count": null,
   "outputs": [],
   "source": [
    "load_thread_to_staging(engine, \"threads_staging\", not_seen)"
   ],
   "metadata": {
    "collapsed": false,
    "pycharm": {
     "name": "#%%\n"
    }
   }
  },
  {
   "cell_type": "code",
   "execution_count": null,
   "outputs": [],
   "source": [
    "load_thread_staging_to_production(engine, staging_table=\"threads_staging\", prod_table=\"threads\")"
   ],
   "metadata": {
    "collapsed": false,
    "pycharm": {
     "name": "#%%\n"
    }
   }
  },
  {
   "cell_type": "code",
   "execution_count": null,
   "outputs": [],
   "source": [],
   "metadata": {
    "collapsed": false,
    "pycharm": {
     "name": "#%%\n"
    }
   }
  }
 ],
 "metadata": {
  "kernelspec": {
   "name": "python3",
   "language": "python",
   "display_name": "Python 3 (ipykernel)"
  },
  "language_info": {
   "codemirror_mode": {
    "name": "ipython",
    "version": 2
   },
   "file_extension": ".py",
   "mimetype": "text/x-python",
   "name": "python",
   "nbconvert_exporter": "python",
   "pygments_lexer": "ipython2",
   "version": "2.7.6"
  }
 },
 "nbformat": 4,
 "nbformat_minor": 0
}